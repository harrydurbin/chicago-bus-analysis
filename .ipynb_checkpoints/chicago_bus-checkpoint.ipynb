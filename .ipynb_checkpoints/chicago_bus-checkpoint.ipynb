{
 "cells": [
  {
   "cell_type": "code",
   "execution_count": 1,
   "metadata": {},
   "outputs": [],
   "source": [
    "import psycopg2 \n",
    "import sqlalchemy\n",
    "import pandas as pd\n",
    "import json\n",
    "import datetime\n",
    "import dateutil\n",
    "import matplotlib.pyplot as plt\n",
    "import operator\n",
    "import folium\n",
    "from IPython.display import HTML\n",
    "\n",
    "%matplotlib inline\n",
    "plt.style.use('fivethirtyeight') # fivethirtyeight dark_background\n",
    "# pd.set_option(\"display.max_columns\", 200)\n",
    "pd.options.mode.chained_assignment = None  # default='warn'"
   ]
  },
  {
   "cell_type": "markdown",
   "metadata": {},
   "source": [
    "# Exploratory Data Analysis"
   ]
  },
  {
   "cell_type": "code",
   "execution_count": 2,
   "metadata": {
    "scrolled": true
   },
   "outputs": [
    {
     "name": "stdout",
     "output_type": "stream",
     "text": [
      "There are n = 11593 rows of data.\n"
     ]
    }
   ],
   "source": [
    "with open(\"rows.json\",'r') as f:\n",
    "    raw=json.load(f)\n",
    "\n",
    "raw_data = raw['data']\n",
    "n=len(raw_data)\n",
    "print 'There are n =', n, 'rows of data.'"
   ]
  },
  {
   "cell_type": "markdown",
   "metadata": {},
   "source": [
    "#### Creating a panda for all of the raw stop data from the raw json file"
   ]
  },
  {
   "cell_type": "code",
   "execution_count": 3,
   "metadata": {
    "collapsed": true
   },
   "outputs": [],
   "source": [
    "colnames = ['stop_id', 'on_street','cross_street', 'routes', 'boardings', 'alightings', 'month_beginning', 'daytype']\n",
    "df_raw = pd.DataFrame(raw_data)\n",
    "df_stop = df_raw[[8,9,10,11,12,13,14,15]]\n",
    "df_stop.columns = colnames"
   ]
  },
  {
   "cell_type": "markdown",
   "metadata": {},
   "source": [
    "#### Cleaning up some of the data and fixing anomolies"
   ]
  },
  {
   "cell_type": "code",
   "execution_count": 4,
   "metadata": {},
   "outputs": [],
   "source": [
    "routes = [] # col 11\n",
    "\n",
    "# convert month data to datetime format\n",
    "month_beginning = [] # col 14\n",
    "\n",
    "# cleaning latitude and longitude data\n",
    "lat = [] # col 16, sub-col 1\n",
    "lng = [] # col 16, sub-col 2\n",
    "street = [] # col 16, sub-col 2\n",
    "                     \n",
    "for row in range(n):\n",
    "    street.append(raw_data[row][9])\n",
    "    street.append(raw_data[row][10])\n",
    "    routes.append(raw_data[row][11])\n",
    "    month_beginning.append(dateutil.parser.parse(raw_data[row][14]))\n",
    "    lat.append(raw_data[row][16][1])\n",
    "    lng.append(raw_data[row][16][2])\n",
    "\n",
    "# correcting for missing values for routes row 6635\n",
    "routes[6635]=u'77'\n",
    "routes[9206]=u'152' \n",
    "routes[813]=routes[813].replace(',,',',')\n",
    "\n",
    "# Replacing data in raw stop table dataframe\n",
    "df_stop_geo = pd.DataFrame(df_stop['stop_id'])\n",
    "df_stop_geo['lat'] = pd.Series(lat)\n",
    "df_stop_geo['lng'] = pd.Series(lng)\n",
    "df_stop_geo.lat = df_stop_geo['lat'].astype(float)\n",
    "df_stop_geo.lng = df_stop_geo['lng'].astype(float)\n",
    "\n",
    "df_stop['month_beginning'] = pd.Series(month_beginning, index=df_stop.index)\n",
    "\n",
    "# encoding streets\n",
    "street_unique = set(street)\n",
    "df_street=pd.DataFrame()\n",
    "df_street['street_id']=[x for x in range(len(street_unique))]\n",
    "df_street['street_name']=list(street_unique)\n",
    "street_dict=dict(zip(df_street['street_name'],df_street['street_id']))\n",
    "on_street_id = []\n",
    "cross_street_id = []\n",
    "for i in range(n):\n",
    "    on_street_id.append(street_dict[df_stop['on_street'][i]])\n",
    "    cross_street_id.append(street_dict[df_stop['cross_street'][i]])\n",
    "df_stop['on_street']=on_street_id\n",
    "df_stop['cross_street']=cross_street_id\n",
    "df_daytype=pd.DataFrame([[0,'Weekday']],columns=['daytype_id','day_type_desc'])\n",
    "df_stop['daytype'] = df_stop['daytype'][:].replace('Weekday',0)\n",
    "df_stop=df_stop.rename(columns = {'on_street':'on_street_id','cross_street':'cross_street_id' })"
   ]
  },
  {
   "cell_type": "code",
   "execution_count": 5,
   "metadata": {},
   "outputs": [
    {
     "data": {
      "text/html": [
       "<div>\n",
       "<table border=\"1\" class=\"dataframe\">\n",
       "  <thead>\n",
       "    <tr style=\"text-align: right;\">\n",
       "      <th></th>\n",
       "      <th>stop_id</th>\n",
       "      <th>on_street_id</th>\n",
       "      <th>cross_street_id</th>\n",
       "      <th>routes</th>\n",
       "      <th>boardings</th>\n",
       "      <th>alightings</th>\n",
       "      <th>month_beginning</th>\n",
       "      <th>daytype</th>\n",
       "    </tr>\n",
       "  </thead>\n",
       "  <tbody>\n",
       "    <tr>\n",
       "      <th>0</th>\n",
       "      <td>1</td>\n",
       "      <td>49</td>\n",
       "      <td>215</td>\n",
       "      <td>126</td>\n",
       "      <td>183.4</td>\n",
       "      <td>150.0</td>\n",
       "      <td>2012-10-01</td>\n",
       "      <td>0</td>\n",
       "    </tr>\n",
       "    <tr>\n",
       "      <th>1</th>\n",
       "      <td>2</td>\n",
       "      <td>49</td>\n",
       "      <td>328</td>\n",
       "      <td>126</td>\n",
       "      <td>5.3</td>\n",
       "      <td>0.2</td>\n",
       "      <td>2012-10-01</td>\n",
       "      <td>0</td>\n",
       "    </tr>\n",
       "    <tr>\n",
       "      <th>2</th>\n",
       "      <td>3</td>\n",
       "      <td>49</td>\n",
       "      <td>1400</td>\n",
       "      <td>126</td>\n",
       "      <td>8.3</td>\n",
       "      <td>0.7</td>\n",
       "      <td>2012-10-01</td>\n",
       "      <td>0</td>\n",
       "    </tr>\n",
       "    <tr>\n",
       "      <th>3</th>\n",
       "      <td>4</td>\n",
       "      <td>49</td>\n",
       "      <td>741</td>\n",
       "      <td>126</td>\n",
       "      <td>17.9</td>\n",
       "      <td>3.0</td>\n",
       "      <td>2012-10-01</td>\n",
       "      <td>0</td>\n",
       "    </tr>\n",
       "    <tr>\n",
       "      <th>4</th>\n",
       "      <td>6</td>\n",
       "      <td>49</td>\n",
       "      <td>1806</td>\n",
       "      <td>126</td>\n",
       "      <td>74.0</td>\n",
       "      <td>11.2</td>\n",
       "      <td>2012-10-01</td>\n",
       "      <td>0</td>\n",
       "    </tr>\n",
       "  </tbody>\n",
       "</table>\n",
       "</div>"
      ],
      "text/plain": [
       "  stop_id  on_street_id  cross_street_id routes boardings alightings  \\\n",
       "0       1            49              215    126     183.4      150.0   \n",
       "1       2            49              328    126       5.3        0.2   \n",
       "2       3            49             1400    126       8.3        0.7   \n",
       "3       4            49              741    126      17.9        3.0   \n",
       "4       6            49             1806    126      74.0       11.2   \n",
       "\n",
       "  month_beginning  daytype  \n",
       "0      2012-10-01        0  \n",
       "1      2012-10-01        0  \n",
       "2      2012-10-01        0  \n",
       "3      2012-10-01        0  \n",
       "4      2012-10-01        0  "
      ]
     },
     "execution_count": 5,
     "metadata": {},
     "output_type": "execute_result"
    }
   ],
   "source": [
    "df_stop.head()"
   ]
  },
  {
   "cell_type": "markdown",
   "metadata": {},
   "source": [
    "#### Finding Unique Route Numbers"
   ]
  },
  {
   "cell_type": "code",
   "execution_count": 6,
   "metadata": {},
   "outputs": [
    {
     "name": "stdout",
     "output_type": "stream",
     "text": [
      "There are 157 unique bus routes.\n"
     ]
    },
    {
     "data": {
      "text/html": [
       "<div>\n",
       "<table border=\"1\" class=\"dataframe\">\n",
       "  <thead>\n",
       "    <tr style=\"text-align: right;\">\n",
       "      <th></th>\n",
       "      <th>route_id</th>\n",
       "      <th>route_name</th>\n",
       "    </tr>\n",
       "  </thead>\n",
       "  <tbody>\n",
       "    <tr>\n",
       "      <th>0</th>\n",
       "      <td>0</td>\n",
       "      <td>53A</td>\n",
       "    </tr>\n",
       "    <tr>\n",
       "      <th>1</th>\n",
       "      <td>1</td>\n",
       "      <td>132</td>\n",
       "    </tr>\n",
       "    <tr>\n",
       "      <th>2</th>\n",
       "      <td>2</td>\n",
       "      <td>130</td>\n",
       "    </tr>\n",
       "    <tr>\n",
       "      <th>3</th>\n",
       "      <td>3</td>\n",
       "      <td>X28</td>\n",
       "    </tr>\n",
       "    <tr>\n",
       "      <th>4</th>\n",
       "      <td>4</td>\n",
       "      <td>135</td>\n",
       "    </tr>\n",
       "  </tbody>\n",
       "</table>\n",
       "</div>"
      ],
      "text/plain": [
       "   route_id route_name\n",
       "0         0        53A\n",
       "1         1        132\n",
       "2         2        130\n",
       "3         3        X28\n",
       "4         4        135"
      ]
     },
     "execution_count": 6,
     "metadata": {},
     "output_type": "execute_result"
    }
   ],
   "source": [
    "def findUniqueRtes(routes):\n",
    "    all_routes = []\n",
    "    for i in range(len(routes)):\n",
    "#         print i\n",
    "        if routes[i]=='':\n",
    "            print 'uh oh 1 @', i\n",
    "        if len(routes[i])>1:\n",
    "            routes[i]=routes[i].split(',')            \n",
    "            for j in range(len(routes[i])):\n",
    "                if routes[i][j]=='':\n",
    "                    print 'uh uh 2 @ ', i\n",
    "                else:\n",
    "                    all_routes.append((routes[i][j]))\n",
    "        elif len(routes[i])==1:\n",
    "            all_routes.append((routes[i]))\n",
    "        else:\n",
    "            print 'oops, missing route value'\n",
    "    unique_routes = list(set(all_routes))\n",
    "    return unique_routes, routes\n",
    "\n",
    "# unique_rtes is a list of all unique route numbers\n",
    "# split_rtes is an tuple similar to 'routes', but split into a list when a stop has multiple routes\n",
    "unique_rtes, split_rtes = findUniqueRtes(routes)\n",
    "\n",
    "print 'There are', len(unique_rtes), 'unique bus routes.'\n",
    "unique_rte_index = [x for x in range(len(unique_rtes))]\n",
    "dict_unique_rte = dict(zip(unique_rte_index,unique_rtes))\n",
    "dict_unique_rte_inv = dict(zip(unique_rtes,unique_rte_index))\n",
    "df_route = pd.DataFrame(unique_rte_index, columns = ['route_id'])\n",
    "df_route['route_name'] = unique_rtes\n",
    "# df_route = pd.Series(dict_unique_rte,index=dict_unique_rte.keys())\n",
    "df_route.head()"
   ]
  },
  {
   "cell_type": "markdown",
   "metadata": {},
   "source": [
    "### Creating a table to link all routes and stops"
   ]
  },
  {
   "cell_type": "code",
   "execution_count": 7,
   "metadata": {
    "scrolled": true
   },
   "outputs": [
    {
     "data": {
      "text/html": [
       "<div>\n",
       "<table border=\"1\" class=\"dataframe\">\n",
       "  <thead>\n",
       "    <tr style=\"text-align: right;\">\n",
       "      <th></th>\n",
       "      <th>stop_id</th>\n",
       "      <th>route_id</th>\n",
       "    </tr>\n",
       "  </thead>\n",
       "  <tbody>\n",
       "    <tr>\n",
       "      <th>0</th>\n",
       "      <td>1</td>\n",
       "      <td>26</td>\n",
       "    </tr>\n",
       "    <tr>\n",
       "      <th>1</th>\n",
       "      <td>2</td>\n",
       "      <td>26</td>\n",
       "    </tr>\n",
       "    <tr>\n",
       "      <th>2</th>\n",
       "      <td>3</td>\n",
       "      <td>26</td>\n",
       "    </tr>\n",
       "    <tr>\n",
       "      <th>3</th>\n",
       "      <td>4</td>\n",
       "      <td>26</td>\n",
       "    </tr>\n",
       "    <tr>\n",
       "      <th>4</th>\n",
       "      <td>6</td>\n",
       "      <td>26</td>\n",
       "    </tr>\n",
       "  </tbody>\n",
       "</table>\n",
       "</div>"
      ],
      "text/plain": [
       "  stop_id  route_id\n",
       "0       1        26\n",
       "1       2        26\n",
       "2       3        26\n",
       "3       4        26\n",
       "4       6        26"
      ]
     },
     "execution_count": 7,
     "metadata": {},
     "output_type": "execute_result"
    }
   ],
   "source": [
    "stop_route = []\n",
    "\n",
    "for i in range(n):\n",
    "    si = df_stop['stop_id'][i]\n",
    "    for j in range(len(split_rtes[i])):\n",
    "        rt = dict_unique_rte_inv[split_rtes[i][j]]\n",
    "        stop_route.append([si,rt])\n",
    "            \n",
    "#converting array to panda df\n",
    "df_stop_route = pd.DataFrame(stop_route,columns = ['stop_id','route_id'])\n",
    "\n",
    "df_stop_route.head()"
   ]
  },
  {
   "cell_type": "markdown",
   "metadata": {},
   "source": [
    "# Creating Database Schema"
   ]
  },
  {
   "cell_type": "markdown",
   "metadata": {},
   "source": [
    "#### Storing in Postgres/PostGIS using SQLalchemy as an engine"
   ]
  },
  {
   "cell_type": "code",
   "execution_count": 8,
   "metadata": {
    "collapsed": true
   },
   "outputs": [],
   "source": [
    "user = 'harry'\n",
    "password = 'harry'"
   ]
  },
  {
   "cell_type": "code",
   "execution_count": 9,
   "metadata": {
    "collapsed": true
   },
   "outputs": [],
   "source": [
    "enginestring = 'postgresql://{}:{}@localhost:5432/chibus'.format(user, password)\n",
    "engine = sqlalchemy.create_engine(enginestring)"
   ]
  },
  {
   "cell_type": "code",
   "execution_count": 10,
   "metadata": {
    "collapsed": true
   },
   "outputs": [],
   "source": [
    "df_stop.to_sql('stop', engine, if_exists='replace')"
   ]
  },
  {
   "cell_type": "code",
   "execution_count": 11,
   "metadata": {},
   "outputs": [
    {
     "name": "stderr",
     "output_type": "stream",
     "text": [
      "C:\\Users\\Harrison\\Anaconda\\lib\\site-packages\\sqlalchemy\\dialects\\postgresql\\base.py:2421: SAWarning: Did not recognize type 'geometry' of column 'location'\n",
      "  (attype, name))\n"
     ]
    }
   ],
   "source": [
    "df_stop_geo.to_sql('stop_geo', engine, if_exists='replace')"
   ]
  },
  {
   "cell_type": "code",
   "execution_count": 12,
   "metadata": {},
   "outputs": [],
   "source": [
    "df_route.to_sql('route', engine, if_exists='replace')"
   ]
  },
  {
   "cell_type": "code",
   "execution_count": 13,
   "metadata": {
    "collapsed": true
   },
   "outputs": [],
   "source": [
    "df_stop_route.to_sql('stop_route', engine, if_exists='replace')"
   ]
  },
  {
   "cell_type": "code",
   "execution_count": 14,
   "metadata": {
    "collapsed": true
   },
   "outputs": [],
   "source": [
    "df_street.to_sql('street', engine, if_exists='replace')"
   ]
  },
  {
   "cell_type": "code",
   "execution_count": 15,
   "metadata": {
    "collapsed": true
   },
   "outputs": [],
   "source": [
    "df_daytype.to_sql('daytype', engine, if_exists='replace')"
   ]
  },
  {
   "cell_type": "code",
   "execution_count": 2,
   "metadata": {},
   "outputs": [],
   "source": [
    "conn = psycopg2.connect(\"dbname=chibus user=harry host=localhost password='harry'\")\n",
    "cur = conn.cursor()"
   ]
  },
  {
   "cell_type": "code",
   "execution_count": 18,
   "metadata": {},
   "outputs": [],
   "source": [
    "cur.execute(\"SELECT AddGeometryColumn ('stop_geo', 'location', 4326, 'POINT', 2);\")\n",
    "cur.execute(\"UPDATE stop_geo SET location = ST_SetSRID (ST_Point(lng, lat), 4326);\")"
   ]
  },
  {
   "cell_type": "code",
   "execution_count": 19,
   "metadata": {
    "collapsed": true
   },
   "outputs": [],
   "source": [
    "conn.commit()"
   ]
  },
  {
   "cell_type": "code",
   "execution_count": 28,
   "metadata": {},
   "outputs": [
    {
     "data": {
      "text/plain": [
       "[('index', 'bigint'),\n",
       " ('stop_id', 'text'),\n",
       " ('on_street_id', 'bigint'),\n",
       " ('cross_street_id', 'bigint'),\n",
       " ('routes', 'text'),\n",
       " ('boardings', 'text'),\n",
       " ('alightings', 'text'),\n",
       " ('month_beginning', 'timestamp without time zone'),\n",
       " ('daytype', 'bigint')]"
      ]
     },
     "execution_count": 28,
     "metadata": {},
     "output_type": "execute_result"
    }
   ],
   "source": [
    "cur.execute(\"SELECT column_name, data_type FROM information_schema.columns \\\n",
    "            WHERE table_name = 'stop';\")\n",
    "cur.fetchall()"
   ]
  },
  {
   "cell_type": "code",
   "execution_count": 53,
   "metadata": {},
   "outputs": [
    {
     "data": {
      "text/plain": [
       "[('index', 'bigint'), ('stop_id', 'text'), ('route_id', 'bigint')]"
      ]
     },
     "execution_count": 53,
     "metadata": {},
     "output_type": "execute_result"
    }
   ],
   "source": [
    "cur.execute(\"SELECT column_name, data_type FROM information_schema.columns \\\n",
    "            WHERE table_name = 'stop_route';\")\n",
    "cur.fetchall()"
   ]
  },
  {
   "cell_type": "markdown",
   "metadata": {},
   "source": [
    "# SQL Queries"
   ]
  },
  {
   "cell_type": "markdown",
   "metadata": {},
   "source": [
    "### Most Busy Stops (in terms of number of bus lines passing by)"
   ]
  },
  {
   "cell_type": "code",
   "execution_count": 23,
   "metadata": {},
   "outputs": [
    {
     "data": {
      "text/html": [
       "<div>\n",
       "<table border=\"1\" class=\"dataframe\">\n",
       "  <thead>\n",
       "    <tr style=\"text-align: right;\">\n",
       "      <th></th>\n",
       "      <th>stop_id</th>\n",
       "      <th>num_rtes</th>\n",
       "      <th>lat</th>\n",
       "      <th>lng</th>\n",
       "    </tr>\n",
       "  </thead>\n",
       "  <tbody>\n",
       "    <tr>\n",
       "      <th>0</th>\n",
       "      <td>1106</td>\n",
       "      <td>14</td>\n",
       "      <td>41.883414</td>\n",
       "      <td>-87.624588</td>\n",
       "    </tr>\n",
       "    <tr>\n",
       "      <th>1</th>\n",
       "      <td>73</td>\n",
       "      <td>13</td>\n",
       "      <td>41.876271</td>\n",
       "      <td>-87.624396</td>\n",
       "    </tr>\n",
       "    <tr>\n",
       "      <th>2</th>\n",
       "      <td>1103</td>\n",
       "      <td>13</td>\n",
       "      <td>41.889894</td>\n",
       "      <td>-87.624244</td>\n",
       "    </tr>\n",
       "    <tr>\n",
       "      <th>3</th>\n",
       "      <td>1120</td>\n",
       "      <td>13</td>\n",
       "      <td>41.886700</td>\n",
       "      <td>-87.624384</td>\n",
       "    </tr>\n",
       "    <tr>\n",
       "      <th>4</th>\n",
       "      <td>1122</td>\n",
       "      <td>13</td>\n",
       "      <td>41.890205</td>\n",
       "      <td>-87.623969</td>\n",
       "    </tr>\n",
       "  </tbody>\n",
       "</table>\n",
       "</div>"
      ],
      "text/plain": [
       "   stop_id  num_rtes        lat        lng\n",
       "0     1106        14  41.883414 -87.624588\n",
       "1       73        13  41.876271 -87.624396\n",
       "2     1103        13  41.889894 -87.624244\n",
       "3     1120        13  41.886700 -87.624384\n",
       "4     1122        13  41.890205 -87.623969"
      ]
     },
     "execution_count": 23,
     "metadata": {},
     "output_type": "execute_result"
    }
   ],
   "source": [
    "stop_num_routes = pd.read_sql_query(\n",
    "    '''\n",
    "    SELECT DISTINCT CAST(stop_route.stop_id AS INT),COUNT(CAST(stop_route.stop_id AS INT)) AS num_rtes,stop_geo.lat, stop_geo.lng\n",
    "    FROM stop_route\n",
    "    JOIN stop_geo\n",
    "    ON stop_route.stop_id=stop_geo.stop_id\n",
    "    GROUP BY stop_route.stop_id, stop_geo.lat, stop_geo.lng\n",
    "    ORDER BY num_rtes DESC;\n",
    "    '''\n",
    "    , con=conn)\n",
    "\n",
    "stop_num_routes.head()"
   ]
  },
  {
   "cell_type": "code",
   "execution_count": 24,
   "metadata": {
    "scrolled": true
   },
   "outputs": [
    {
     "data": {
      "image/png": "[encoded data removed]",
      "text/plain": [
       "<matplotlib.figure.Figure at 0xd31ee80>"
      ]
     },
     "metadata": {},
     "output_type": "display_data"
    }
   ],
   "source": [
    "plt.figure()\n",
    "stop_num_routes['num_rtes'].plot.kde(figsize=(24,6),fontsize=24,xlim=[0,14],title='Kernal Density for Number of Routes at Each Stop')\n",
    "plt.savefig('stop_numroutes.png')"
   ]
  },
  {
   "cell_type": "code",
   "execution_count": 25,
   "metadata": {
    "scrolled": false
   },
   "outputs": [
    {
     "data": {
      "text/html": [
       "<iframe class=\"folium-iframe\" src=\"files/chibus1.html\" style=\"width: 900px; height: 550px; border: none; margin-left: 75px;\" scrolling=\"no\"></iframe>"
      ],
      "text/plain": [
       "<folium.folium.Map at 0xa7e2d68>"
      ]
     },
     "execution_count": 25,
     "metadata": {},
     "output_type": "execute_result"
    }
   ],
   "source": [
    "# cartodbdark_matter cartodbpositron\n",
    "chibus1 = folium.Map(location=[41.8840, -87.6246], zoom_start=15,\n",
    "                    tiles='cartodbdark_matter', width=900, height=550)\n",
    "\n",
    "def inline_map(m, width=1100, height=500):\n",
    "    \"\"\"Takes a folium instance and embed HTML.\"\"\"\n",
    "    m._build_map()\n",
    "    srcdoc = m.HTML.replace('\"', '&quot;')\n",
    "    embed = HTML('<iframe srcdoc=\"{}\" '\n",
    "                 'style=\"width: {}px; height: {}px; '\n",
    "                 'border: none\"></iframe>'.format(srcdoc, width, height))\n",
    "    return embed\n",
    "\n",
    "def addMapLabels1(df):\n",
    "    for i in range(len(df)):\n",
    "        lat = (df['lat'][i])\n",
    "        lng = (df['lng'][i])\n",
    "        stopid = (df['stop_id'][i])  \n",
    "        numrtes = (df['num_rtes'][i])\n",
    "        if numrtes>=10: color = '#fb1111' \n",
    "        elif numrtes>=5: color = '#34b600' \n",
    "        else: color = '#3186cc'             \n",
    "        chibus1.circle_marker(location=[lat, lng], radius=5*int(numrtes), \n",
    "                              popup='stop_id:'+str(stopid)+', num_routes:'+str(numrtes), \n",
    "                              line_color=color, fill_color=color, fill_opacity=0.2)\n",
    "\n",
    "inline_map(chibus1)\n",
    "\n",
    "#creating labels \n",
    "addMapLabels1(stop_num_routes)\n",
    "\n",
    "chibus1.create_map('chibus1.html')\n",
    "chibus1.render_iframe = True\n",
    "chibus1"
   ]
  },
  {
   "cell_type": "markdown",
   "metadata": {},
   "source": [
    "#### Longest Route (in terms of number of stops)"
   ]
  },
  {
   "cell_type": "code",
   "execution_count": 26,
   "metadata": {},
   "outputs": [
    {
     "name": "stdout",
     "output_type": "stream",
     "text": [
      "The longest route (w/ most stops) is route number 9, which has 237 number of stops.\n"
     ]
    },
    {
     "data": {
      "text/html": [
       "<div>\n",
       "<table border=\"1\" class=\"dataframe\">\n",
       "  <thead>\n",
       "    <tr style=\"text-align: right;\">\n",
       "      <th></th>\n",
       "      <th>route_name</th>\n",
       "      <th>num_stops</th>\n",
       "    </tr>\n",
       "  </thead>\n",
       "  <tbody>\n",
       "    <tr>\n",
       "      <th>0</th>\n",
       "      <td>9</td>\n",
       "      <td>273</td>\n",
       "    </tr>\n",
       "    <tr>\n",
       "      <th>1</th>\n",
       "      <td>49</td>\n",
       "      <td>242</td>\n",
       "    </tr>\n",
       "    <tr>\n",
       "      <th>2</th>\n",
       "      <td>151</td>\n",
       "      <td>221</td>\n",
       "    </tr>\n",
       "    <tr>\n",
       "      <th>3</th>\n",
       "      <td>8</td>\n",
       "      <td>220</td>\n",
       "    </tr>\n",
       "    <tr>\n",
       "      <th>4</th>\n",
       "      <td>3</td>\n",
       "      <td>213</td>\n",
       "    </tr>\n",
       "  </tbody>\n",
       "</table>\n",
       "</div>"
      ],
      "text/plain": [
       "  route_name  num_stops\n",
       "0          9        273\n",
       "1         49        242\n",
       "2        151        221\n",
       "3          8        220\n",
       "4          3        213"
      ]
     },
     "execution_count": 26,
     "metadata": {},
     "output_type": "execute_result"
    }
   ],
   "source": [
    "df_route_num_stop = pd.read_sql_query(\n",
    "    '''\n",
    "    SELECT DISTINCT (route.route_name), COUNT(stop_route.route_id) AS num_stops\n",
    "    FROM route, stop_route\n",
    "    WHERE route.route_id = stop_route.route_id\n",
    "    GROUP BY route_name\n",
    "    ORDER BY num_stops DESC;\n",
    "    '''\n",
    "    , con=conn)\n",
    "\n",
    "print 'The longest route (w/ most stops) is route number 9, which has 237 number of stops.'\n",
    "df_route_num_stop.head()"
   ]
  },
  {
   "cell_type": "code",
   "execution_count": 27,
   "metadata": {
    "scrolled": true
   },
   "outputs": [
    {
     "data": {
      "text/plain": [
       "<matplotlib.figure.Figure at 0xa7c9a90>"
      ]
     },
     "metadata": {},
     "output_type": "display_data"
    },
    {
     "data": {
      "image/png": "[encoded data removed]",
      "text/plain": [
       "<matplotlib.figure.Figure at 0xa7e2080>"
      ]
     },
     "metadata": {},
     "output_type": "display_data"
    }
   ],
   "source": [
    "plt.figure()\n",
    "df_route_num_stop[0:5].plot.bar(x=df_route_num_stop['route_name'][0:5],figsize=(20,5),fontsize=15, \n",
    "                                 title = 'top 5 longest routes (most stops)')\n",
    "plt.savefig('route_numstops.png')"
   ]
  },
  {
   "cell_type": "code",
   "execution_count": 28,
   "metadata": {},
   "outputs": [
    {
     "data": {
      "text/plain": [
       "<matplotlib.figure.Figure at 0xbf396a0>"
      ]
     },
     "metadata": {},
     "output_type": "display_data"
    },
    {
     "data": {
      "image/png": "[encoded data removed]",
      "text/plain": [
       "<matplotlib.figure.Figure at 0xd987b70>"
      ]
     },
     "metadata": {},
     "output_type": "display_data"
    }
   ],
   "source": [
    "plt.figure()\n",
    "df_route_num_stop.plot.hist(x=df_route_num_stop['route_name'],figsize=(20,5),fontsize=15,bins=40)\n",
    "plt.savefig('route_numstops1.png')"
   ]
  },
  {
   "cell_type": "markdown",
   "metadata": {},
   "source": [
    "##### compile stops for each route into tables (top 3 longest)"
   ]
  },
  {
   "cell_type": "code",
   "execution_count": 30,
   "metadata": {},
   "outputs": [],
   "source": [
    "def getStops(routenum):\n",
    "    cur.execute(\n",
    "    '''\n",
    "    SELECT CAST(stop_route.stop_id AS INT), stop_geo.lat, stop_geo.lng   \n",
    "    FROM stop_route\n",
    "    JOIN stop_geo\n",
    "    ON stop_route.stop_id = stop_geo.stop_id\n",
    "    WHERE stop_route.route_id = %s;\n",
    "    '''\n",
    "    , [int(df_route[df_route['route_name']==routenum].index[0])])\n",
    "    ans = cur.fetchall()\n",
    "    ans = pd.DataFrame(ans,columns=['stop_id','lat','lng'])\n",
    "    return ans\n",
    "\n",
    "rte_9_stops = getStops('9')\n",
    "rte_49_stops = getStops('49')\n",
    "rte_151_stops = getStops('151')\n",
    "rte_8_stops = getStops('8')\n",
    "rte_3_stops = getStops('3')"
   ]
  },
  {
   "cell_type": "code",
   "execution_count": 31,
   "metadata": {},
   "outputs": [
    {
     "data": {
      "text/html": [
       "<iframe class=\"folium-iframe\" src=\"files/chibus.html\" style=\"width: 900px; height: 550px; border: none; margin-left: 75px;\" scrolling=\"no\"></iframe>"
      ],
      "text/plain": [
       "<folium.folium.Map at 0xc376cf8>"
      ]
     },
     "execution_count": 31,
     "metadata": {},
     "output_type": "execute_result"
    }
   ],
   "source": [
    "width, height = 900, 550\n",
    "# cartodbpositron cartodbdark_matter\n",
    "chibus = folium.Map(location=[41.8381, -87.6298], zoom_start=10,\n",
    "                    tiles='cartodbdark_matter', width=width, height=height)\n",
    "\n",
    "def addMapLabels(df,color='#3186cc',rn='route'):\n",
    "    for i in range(len(df)):\n",
    "        lat = (df['lat'][i])\n",
    "        lng = (df['lng'][i])\n",
    "        stopid = (df['stop_id'][i])  \n",
    "        chibus.circle_marker(location=[lat, lng], radius=5, \n",
    "                             popup='route: '+rn+', stop_id:'+str(stopid), \n",
    "                             line_color=color, fill_color=color, fill_opacity=0.2)\n",
    "    \n",
    "inline_map(chibus)\n",
    "\n",
    "#creating labels\n",
    "addMapLabels(rte_9_stops,'#3186cc','9')\n",
    "addMapLabels(rte_49_stops,'#fb1111','49')\n",
    "addMapLabels(rte_151_stops,'#34b600','151')\n",
    "addMapLabels(rte_8_stops,'#f4ad42','8')\n",
    "addMapLabels(rte_3_stops,'#f23ee0','3')\n",
    "\n",
    "chibus.create_map('chibus.html')\n",
    "chibus.render_iframe = True\n",
    "chibus"
   ]
  },
  {
   "cell_type": "markdown",
   "metadata": {},
   "source": [
    "## Determining best route in most need of an express route (i.e lots of stops and boardings)"
   ]
  },
  {
   "cell_type": "code",
   "execution_count": 65,
   "metadata": {},
   "outputs": [
    {
     "data": {
      "text/html": [
       "<div>\n",
       "<table border=\"1\" class=\"dataframe\">\n",
       "  <thead>\n",
       "    <tr style=\"text-align: right;\">\n",
       "      <th></th>\n",
       "      <th>route_id</th>\n",
       "      <th>total_boardings</th>\n",
       "    </tr>\n",
       "  </thead>\n",
       "  <tbody>\n",
       "    <tr>\n",
       "      <th>0</th>\n",
       "      <td>0</td>\n",
       "      <td>10734.1</td>\n",
       "    </tr>\n",
       "    <tr>\n",
       "      <th>1</th>\n",
       "      <td>1</td>\n",
       "      <td>6274.4</td>\n",
       "    </tr>\n",
       "    <tr>\n",
       "      <th>2</th>\n",
       "      <td>2</td>\n",
       "      <td>15154.3</td>\n",
       "    </tr>\n",
       "    <tr>\n",
       "      <th>3</th>\n",
       "      <td>3</td>\n",
       "      <td>22424.1</td>\n",
       "    </tr>\n",
       "    <tr>\n",
       "      <th>4</th>\n",
       "      <td>4</td>\n",
       "      <td>15911.0</td>\n",
       "    </tr>\n",
       "  </tbody>\n",
       "</table>\n",
       "</div>"
      ],
      "text/plain": [
       "   route_id  total_boardings\n",
       "0         0          10734.1\n",
       "1         1           6274.4\n",
       "2         2          15154.3\n",
       "3         3          22424.1\n",
       "4         4          15911.0"
      ]
     },
     "execution_count": 65,
     "metadata": {},
     "output_type": "execute_result"
    }
   ],
   "source": [
    "df_route_boardings = pd.read_sql_query(\n",
    "    '''\n",
    "    SELECT DISTINCT stop_route.route_id, SUM(CAST(stop.boardings AS FLOAT)) AS total_boardings\n",
    "    FROM stop_route, stop\n",
    "    WHERE stop_route.stop_id = stop.stop_id\n",
    "    GROUP BY stop_route.route_id\n",
    "    ORDER BY stop_route.route_id ASC\n",
    "    ;\n",
    "    '''\n",
    "    , con=conn)\n",
    "\n",
    "df_route_boardings.head()"
   ]
  },
  {
   "cell_type": "code",
   "execution_count": 59,
   "metadata": {},
   "outputs": [],
   "source": [
    "df_route_num_stop['boardings']=df_route_boardings['total_boardings']"
   ]
  },
  {
   "cell_type": "code",
   "execution_count": 66,
   "metadata": {},
   "outputs": [
    {
     "data": {
      "text/html": [
       "<div>\n",
       "<table border=\"1\" class=\"dataframe\">\n",
       "  <thead>\n",
       "    <tr style=\"text-align: right;\">\n",
       "      <th></th>\n",
       "      <th>num_stops</th>\n",
       "      <th>boardings</th>\n",
       "    </tr>\n",
       "  </thead>\n",
       "  <tbody>\n",
       "    <tr>\n",
       "      <th>count</th>\n",
       "      <td>157.000000</td>\n",
       "      <td>157.000000</td>\n",
       "    </tr>\n",
       "    <tr>\n",
       "      <th>mean</th>\n",
       "      <td>97.273885</td>\n",
       "      <td>13410.635032</td>\n",
       "    </tr>\n",
       "    <tr>\n",
       "      <th>std</th>\n",
       "      <td>62.982559</td>\n",
       "      <td>13023.005920</td>\n",
       "    </tr>\n",
       "    <tr>\n",
       "      <th>min</th>\n",
       "      <td>1.000000</td>\n",
       "      <td>19.800000</td>\n",
       "    </tr>\n",
       "    <tr>\n",
       "      <th>25%</th>\n",
       "      <td>41.000000</td>\n",
       "      <td>3489.900000</td>\n",
       "    </tr>\n",
       "    <tr>\n",
       "      <th>50%</th>\n",
       "      <td>103.000000</td>\n",
       "      <td>10070.800000</td>\n",
       "    </tr>\n",
       "    <tr>\n",
       "      <th>75%</th>\n",
       "      <td>142.000000</td>\n",
       "      <td>18686.200000</td>\n",
       "    </tr>\n",
       "    <tr>\n",
       "      <th>max</th>\n",
       "      <td>273.000000</td>\n",
       "      <td>69090.400000</td>\n",
       "    </tr>\n",
       "  </tbody>\n",
       "</table>\n",
       "</div>"
      ],
      "text/plain": [
       "        num_stops     boardings\n",
       "count  157.000000    157.000000\n",
       "mean    97.273885  13410.635032\n",
       "std     62.982559  13023.005920\n",
       "min      1.000000     19.800000\n",
       "25%     41.000000   3489.900000\n",
       "50%    103.000000  10070.800000\n",
       "75%    142.000000  18686.200000\n",
       "max    273.000000  69090.400000"
      ]
     },
     "execution_count": 66,
     "metadata": {},
     "output_type": "execute_result"
    }
   ],
   "source": [
    "df_route_num_stop.describe()"
   ]
  },
  {
   "cell_type": "code",
   "execution_count": 84,
   "metadata": {},
   "outputs": [],
   "source": [
    "# assigning a score 0-10 for each stop respective to the number of stops and number of boardings\n",
    "num_stop_bins = pd.cut(df_route_num_stop['num_stops'], 10, labels=[x for x in range(10)])\n",
    "boarding_bins = pd.cut(df_route_num_stop['boardings'], 10, labels=[x for x in range(10)])"
   ]
  },
  {
   "cell_type": "code",
   "execution_count": 97,
   "metadata": {},
   "outputs": [
    {
     "name": "stderr",
     "output_type": "stream",
     "text": [
      "C:\\Users\\Harrison\\Anaconda\\lib\\site-packages\\IPython\\kernel\\__main__.py:5: FutureWarning: sort(columns=....) is deprecated, use sort_values(by=.....)\n"
     ]
    },
    {
     "data": {
      "text/html": [
       "<div>\n",
       "<table border=\"1\" class=\"dataframe\">\n",
       "  <thead>\n",
       "    <tr style=\"text-align: right;\">\n",
       "      <th></th>\n",
       "      <th>route_name</th>\n",
       "      <th>num_stops</th>\n",
       "      <th>boardings</th>\n",
       "      <th>tot</th>\n",
       "    </tr>\n",
       "  </thead>\n",
       "  <tbody>\n",
       "    <tr>\n",
       "      <th>37</th>\n",
       "      <td>126</td>\n",
       "      <td>5</td>\n",
       "      <td>9</td>\n",
       "      <td>14</td>\n",
       "    </tr>\n",
       "    <tr>\n",
       "      <th>18</th>\n",
       "      <td>22</td>\n",
       "      <td>6</td>\n",
       "      <td>7</td>\n",
       "      <td>13</td>\n",
       "    </tr>\n",
       "    <tr>\n",
       "      <th>0</th>\n",
       "      <td>9</td>\n",
       "      <td>9</td>\n",
       "      <td>2</td>\n",
       "      <td>11</td>\n",
       "    </tr>\n",
       "    <tr>\n",
       "      <th>8</th>\n",
       "      <td>N5</td>\n",
       "      <td>7</td>\n",
       "      <td>4</td>\n",
       "      <td>11</td>\n",
       "    </tr>\n",
       "    <tr>\n",
       "      <th>24</th>\n",
       "      <td>36</td>\n",
       "      <td>6</td>\n",
       "      <td>5</td>\n",
       "      <td>11</td>\n",
       "    </tr>\n",
       "  </tbody>\n",
       "</table>\n",
       "</div>"
      ],
      "text/plain": [
       "   route_name num_stops boardings  tot\n",
       "37        126         5         9   14\n",
       "18         22         6         7   13\n",
       "0           9         9         2   11\n",
       "8          N5         7         4   11\n",
       "24         36         6         5   11"
      ]
     },
     "execution_count": 97,
     "metadata": {},
     "output_type": "execute_result"
    }
   ],
   "source": [
    "# finding the stop most in need of an express route (a high number of both boardings and stops)\n",
    "decision_array=df_route_num_stop\n",
    "decision_array['num_stops']=num_stop_bins\n",
    "decision_array['boardings']=boarding_bins\n",
    "decision_array['tot']=decision_array['num_stops'].astype(int)+decision_array['boardings'].astype(int)\n",
    "decision_array=decision_array.sort('tot',ascending=False)\n",
    "decision_array.head()"
   ]
  },
  {
   "cell_type": "markdown",
   "metadata": {
    "collapsed": true
   },
   "source": [
    "#### Therefore, it would be best to provide an express route to Route 126 as it has a relatively high number of stops and boardings, which means it likely has a large travel time. An express route would alleviate the number of boardings and improve efficiency."
   ]
  },
  {
   "cell_type": "code",
   "execution_count": null,
   "metadata": {
    "collapsed": true
   },
   "outputs": [],
   "source": [
    "cur.close()"
   ]
  }
 ],
 "metadata": {
  "kernelspec": {
   "display_name": "Python 2",
   "language": "python",
   "name": "python2"
  },
  "language_info": {
   "codemirror_mode": {
    "name": "ipython",
    "version": 2
   },
   "file_extension": ".py",
   "mimetype": "text/x-python",
   "name": "python",
   "nbconvert_exporter": "python",
   "pygments_lexer": "ipython2",
   "version": "2.7.12"
  }
 },
 "nbformat": 4,
 "nbformat_minor": 1
}
